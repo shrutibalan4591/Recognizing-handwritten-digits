{
  "nbformat": 4,
  "nbformat_minor": 0,
  "metadata": {
    "colab": {
      "name": "handwritten.ipynb",
      "provenance": [],
      "authorship_tag": "ABX9TyM60QsJz2EbAoWiP3182Z63"
    },
    "kernelspec": {
      "display_name": "Python 3",
      "name": "python3"
    }
  },
  "cells": [
    {
      "cell_type": "markdown",
      "metadata": {
        "id": "drHQmnQTCOWU"
      },
      "source": [
        "# Importing necessary libraries"
      ]
    },
    {
      "cell_type": "code",
      "metadata": {
        "id": "o7Ffb8OquZTq"
      },
      "source": [
        "# Import libraries\r\n",
        "import numpy as np\r\n",
        "from sklearn import datasets\r\n",
        "import matplotlib.pyplot as plt\r\n",
        "%matplotlib inline\r\n",
        "\r\n",
        "from sklearn.model_selection import train_test_split\r\n",
        "from sklearn.metrics import accuracy_score\r\n",
        "\r\n",
        "from sklearn.neighbors import KNeighborsClassifier\r\n",
        "from sklearn import svm\r\n",
        "from sklearn.ensemble import RandomForestClassifier\r\n",
        "\r\n",
        "from sklearn.model_selection import cross_val_score"
      ],
      "execution_count": null,
      "outputs": []
    },
    {
      "cell_type": "markdown",
      "metadata": {
        "id": "HspdhnKuCV_9"
      },
      "source": [
        "# Loading dataset"
      ]
    },
    {
      "cell_type": "markdown",
      "metadata": {
        "id": "x11vQjWX1TR-"
      },
      "source": [
        "The scikit-learn library provides numerous datasets that are useful for testing many problems of data analysis and prediction of the results. For this project, we use Digits dataset"
      ]
    },
    {
      "cell_type": "code",
      "metadata": {
        "id": "Je-XdXqXOSXo"
      },
      "source": [
        "# Import dataset digits from sklearn\r\n",
        "digits = datasets.load_digits()\r\n",
        "print(digits.DESCR)"
      ],
      "execution_count": null,
      "outputs": []
    },
    {
      "cell_type": "markdown",
      "metadata": {
        "id": "xuTt1aiTCbWy"
      },
      "source": [
        "# Data exploring"
      ]
    },
    {
      "cell_type": "code",
      "metadata": {
        "colab": {
          "base_uri": "https://localhost:8080/"
        },
        "id": "jhiQFc86EpAp",
        "outputId": "2036f42b-f814-488b-fcbc-b305da58ee03"
      },
      "source": [
        "# No of data\r\n",
        "digits.data.shape"
      ],
      "execution_count": null,
      "outputs": [
        {
          "output_type": "execute_result",
          "data": {
            "text/plain": [
              "(1797, 64)"
            ]
          },
          "metadata": {
            "tags": []
          },
          "execution_count": 35
        }
      ]
    },
    {
      "cell_type": "markdown",
      "metadata": {
        "id": "oO3t9bNl3Q2i"
      },
      "source": [
        "The images of the handwritten digits are contained in a **digits.images** array. Each element of this array is an image that is represented by an 8x8 matrix of numerical values that correspond to a grayscale from white, with a value of 0, to black, with the value 15."
      ]
    },
    {
      "cell_type": "code",
      "metadata": {
        "colab": {
          "base_uri": "https://localhost:8080/"
        },
        "id": "cDMrS3baBrMt",
        "outputId": "4715d65f-8c29-41aa-efb0-0ecc8238c1ef"
      },
      "source": [
        "# First image in the dataframe\r\n",
        "digits.images[0]"
      ],
      "execution_count": null,
      "outputs": [
        {
          "output_type": "execute_result",
          "data": {
            "text/plain": [
              "array([[ 0.,  0.,  5., 13.,  9.,  1.,  0.,  0.],\n",
              "       [ 0.,  0., 13., 15., 10., 15.,  5.,  0.],\n",
              "       [ 0.,  3., 15.,  2.,  0., 11.,  8.,  0.],\n",
              "       [ 0.,  4., 12.,  0.,  0.,  8.,  8.,  0.],\n",
              "       [ 0.,  5.,  8.,  0.,  0.,  9.,  8.,  0.],\n",
              "       [ 0.,  4., 11.,  0.,  1., 12.,  7.,  0.],\n",
              "       [ 0.,  2., 14.,  5., 10., 12.,  0.,  0.],\n",
              "       [ 0.,  0.,  6., 13., 10.,  0.,  0.,  0.]])"
            ]
          },
          "metadata": {
            "tags": []
          },
          "execution_count": 19
        }
      ]
    },
    {
      "cell_type": "markdown",
      "metadata": {
        "id": "JQ-dO96I3g3f"
      },
      "source": [
        "You can visually check the contents of this result using the matplotlib library."
      ]
    },
    {
      "cell_type": "code",
      "metadata": {
        "colab": {
          "base_uri": "https://localhost:8080/",
          "height": 282
        },
        "id": "faWSb_V-UMUd",
        "outputId": "d7e4c4ca-64d3-40d1-b1f2-bc410e54f7ef"
      },
      "source": [
        "plt.imshow(digits.images[0], cmap=plt.cm.gray_r, interpolation='nearest')"
      ],
      "execution_count": null,
      "outputs": [
        {
          "output_type": "execute_result",
          "data": {
            "text/plain": [
              "(0, <matplotlib.image.AxesImage at 0x7fae22a9a828>)"
            ]
          },
          "metadata": {
            "tags": []
          },
          "execution_count": 20
        },
        {
          "output_type": "display_data",
          "data": {
            "image/png": "[encoded data removed]",
            "text/plain": [
              "<Figure size 432x288 with 1 Axes>"
            ]
          },
          "metadata": {
            "tags": [],
            "needs_background": "light"
          }
        }
      ]
    },
    {
      "cell_type": "markdown",
      "metadata": {
        "id": "6DJYRUfT3onX"
      },
      "source": [
        "The numerical values represented by images, i.e., the targets, are contained in the **digit.targets** array."
      ]
    },
    {
      "cell_type": "code",
      "metadata": {
        "colab": {
          "base_uri": "https://localhost:8080/"
        },
        "id": "fsmUKqCIG36m",
        "outputId": "983bae9b-81da-4b6e-84d0-9a58114af39b"
      },
      "source": [
        "# Target value of first image\r\n",
        "digits.target[0]"
      ],
      "execution_count": null,
      "outputs": [
        {
          "output_type": "execute_result",
          "data": {
            "text/plain": [
              "0"
            ]
          },
          "metadata": {
            "tags": []
          },
          "execution_count": 36
        }
      ]
    },
    {
      "cell_type": "code",
      "metadata": {
        "colab": {
          "base_uri": "https://localhost:8080/",
          "height": 178
        },
        "id": "kQINULKaB1fV",
        "outputId": "b8c69f39-a107-4da2-853e-8107eda823da"
      },
      "source": [
        "# Plot the image of first 10 numbers in the dataframe and its corresponding target values\r\n",
        "plt.figure(figsize=(20,5))\r\n",
        "for index, (image, label) in enumerate(zip(digits.data[0:10], digits.target[0:10])):\r\n",
        "  plt.subplot(1, 10, index+1)\r\n",
        "  plt.imshow(np.reshape(image, (8,8)), cmap=plt.cm.gray_r)\r\n",
        "  plt.title('Label: %i\\n' %label, fontsize=15)\r\n"
      ],
      "execution_count": null,
      "outputs": [
        {
          "output_type": "display_data",
          "data": {
            "image/png": "[encoded data removed]",
            "text/plain": [
              "<Figure size 1440x360 with 10 Axes>"
            ]
          },
          "metadata": {
            "tags": [],
            "needs_background": "light"
          }
        }
      ]
    },
    {
      "cell_type": "markdown",
      "metadata": {
        "id": "MRjPmbhsCkur"
      },
      "source": [
        "# Creating Model"
      ]
    },
    {
      "cell_type": "markdown",
      "metadata": {
        "id": "_mnFncbI4IGU"
      },
      "source": [
        "## Splitting the dataset to train and test sets"
      ]
    },
    {
      "cell_type": "code",
      "metadata": {
        "id": "36U9AmwICKSq"
      },
      "source": [
        "X_train, X_test, Y_train, Y_test = train_test_split(digits.data,  digits.target, test_size=0.25, random_state=0)"
      ],
      "execution_count": null,
      "outputs": []
    },
    {
      "cell_type": "markdown",
      "metadata": {
        "id": "2NoufhNH6ezo"
      },
      "source": [
        "Next we train the model using different algorithms in sklearn"
      ]
    },
    {
      "cell_type": "markdown",
      "metadata": {
        "id": "8obOYM9F4P4f"
      },
      "source": [
        "# 1.Model using Support Vector Machine(SVM)"
      ]
    },
    {
      "cell_type": "code",
      "metadata": {
        "id": "BtK2nXy9DW6U"
      },
      "source": [
        "# Create instance of svc\r\n",
        "svc = svm.SVC(gamma=0.001, C=100.)"
      ],
      "execution_count": null,
      "outputs": []
    },
    {
      "cell_type": "code",
      "metadata": {
        "colab": {
          "base_uri": "https://localhost:8080/"
        },
        "id": "dsclRGKFO4Hx",
        "outputId": "075237e9-fbf1-4b5a-a90f-529b0c62fcb0"
      },
      "source": [
        "# Train the model, on training data\r\n",
        "svc.fit(X_train, Y_train)"
      ],
      "execution_count": null,
      "outputs": [
        {
          "output_type": "execute_result",
          "data": {
            "text/plain": [
              "SVC(C=100.0, break_ties=False, cache_size=200, class_weight=None, coef0=0.0,\n",
              "    decision_function_shape='ovr', degree=3, gamma=0.001, kernel='rbf',\n",
              "    max_iter=-1, probability=False, random_state=None, shrinking=True,\n",
              "    tol=0.001, verbose=False)"
            ]
          },
          "metadata": {
            "tags": []
          },
          "execution_count": 24
        }
      ]
    },
    {
      "cell_type": "code",
      "metadata": {
        "id": "W8yETIayPMZ1"
      },
      "source": [
        "# Test the model, by predicting target values of test set\r\n",
        "prediction = svc.predict(X_test)"
      ],
      "execution_count": null,
      "outputs": []
    },
    {
      "cell_type": "markdown",
      "metadata": {
        "id": "1lDpKWBA4nLE"
      },
      "source": [
        "## Accuracy"
      ]
    },
    {
      "cell_type": "code",
      "metadata": {
        "colab": {
          "base_uri": "https://localhost:8080/"
        },
        "id": "_nEWKbhlPmh5",
        "outputId": "104dda99-7fbc-4b87-d56f-a8ee9c336994"
      },
      "source": [
        "accuracy_score(Y_test, prediction)"
      ],
      "execution_count": null,
      "outputs": [
        {
          "output_type": "execute_result",
          "data": {
            "text/plain": [
              "0.9911012235817576"
            ]
          },
          "metadata": {
            "tags": []
          },
          "execution_count": 26
        }
      ]
    },
    {
      "cell_type": "markdown",
      "metadata": {
        "id": "ritL_fONQm62"
      },
      "source": [
        "\r\n",
        "\r\n",
        "---\r\n",
        "\r\n",
        "---\r\n",
        "\r\n",
        "---\r\n",
        "\r\n",
        "\r\n",
        "\r\n",
        "\r\n",
        "\r\n"
      ]
    },
    {
      "cell_type": "markdown",
      "metadata": {
        "id": "KJY9Rco-44c4"
      },
      "source": [
        "# 2. K-Nearest neighbour "
      ]
    },
    {
      "cell_type": "code",
      "metadata": {
        "id": "SRGM7dWSP6Be"
      },
      "source": [
        "# Create instance for KNeighborsClassifier\r\n",
        "clf = KNeighborsClassifier()"
      ],
      "execution_count": null,
      "outputs": []
    },
    {
      "cell_type": "code",
      "metadata": {
        "colab": {
          "base_uri": "https://localhost:8080/"
        },
        "id": "TSzJZ_40KPEm",
        "outputId": "98744dcc-a92b-4188-d308-5c414681e998"
      },
      "source": [
        "# Train the model, on train set\r\n",
        "clf.fit(X_train, Y_train)"
      ],
      "execution_count": null,
      "outputs": [
        {
          "output_type": "execute_result",
          "data": {
            "text/plain": [
              "KNeighborsClassifier(algorithm='auto', leaf_size=30, metric='minkowski',\n",
              "                     metric_params=None, n_jobs=None, n_neighbors=5, p=2,\n",
              "                     weights='uniform')"
            ]
          },
          "metadata": {
            "tags": []
          },
          "execution_count": 40
        }
      ]
    },
    {
      "cell_type": "code",
      "metadata": {
        "id": "WxlLDkGNQz7E"
      },
      "source": [
        "# Test the model, by predicting target values on test set\r\n",
        "prediction = clf.predict(X_test)"
      ],
      "execution_count": null,
      "outputs": []
    },
    {
      "cell_type": "markdown",
      "metadata": {
        "id": "cvxjQS025Rgx"
      },
      "source": [
        "## Accuracy"
      ]
    },
    {
      "cell_type": "code",
      "metadata": {
        "colab": {
          "base_uri": "https://localhost:8080/"
        },
        "id": "ydYivmenQ-Mr",
        "outputId": "6bf67551-61fb-4ba9-8fc8-abe6767be8fa"
      },
      "source": [
        "accuracy_score(Y_test, prediction)"
      ],
      "execution_count": null,
      "outputs": [
        {
          "output_type": "execute_result",
          "data": {
            "text/plain": [
              "0.98"
            ]
          },
          "metadata": {
            "tags": []
          },
          "execution_count": 42
        }
      ]
    },
    {
      "cell_type": "markdown",
      "metadata": {
        "id": "QgZTm_EGRzSl"
      },
      "source": [
        "\r\n",
        "\r\n",
        "---\r\n",
        "\r\n",
        "---\r\n",
        "\r\n",
        "---\r\n",
        "\r\n",
        "\r\n",
        "\r\n",
        "\r\n",
        "\r\n"
      ]
    },
    {
      "cell_type": "markdown",
      "metadata": {
        "id": "fVCUo-Qd5dnt"
      },
      "source": [
        "# 3. Random FOrest Classifier"
      ]
    },
    {
      "cell_type": "code",
      "metadata": {
        "id": "bhd1GxqMRBW7",
        "colab": {
          "base_uri": "https://localhost:8080/"
        },
        "outputId": "99990904-4e7e-476a-9563-51abb9bd2fbd"
      },
      "source": [
        "# Create instance\r\n",
        "rf = RandomForestClassifier(n_estimators=100)\r\n",
        "\r\n",
        "# Train the model\r\n",
        "rf.fit(X_train, Y_train)"
      ],
      "execution_count": null,
      "outputs": [
        {
          "output_type": "execute_result",
          "data": {
            "text/plain": [
              "RandomForestClassifier(bootstrap=True, ccp_alpha=0.0, class_weight=None,\n",
              "                       criterion='gini', max_depth=None, max_features='auto',\n",
              "                       max_leaf_nodes=None, max_samples=None,\n",
              "                       min_impurity_decrease=0.0, min_impurity_split=None,\n",
              "                       min_samples_leaf=1, min_samples_split=2,\n",
              "                       min_weight_fraction_leaf=0.0, n_estimators=100,\n",
              "                       n_jobs=None, oob_score=False, random_state=None,\n",
              "                       verbose=0, warm_start=False)"
            ]
          },
          "metadata": {
            "tags": []
          },
          "execution_count": 30
        }
      ]
    },
    {
      "cell_type": "code",
      "metadata": {
        "id": "ShP9xC3dSQSO"
      },
      "source": [
        "# Test the model\r\n",
        "prediction = rf.predict(X_test)"
      ],
      "execution_count": null,
      "outputs": []
    },
    {
      "cell_type": "code",
      "metadata": {
        "id": "dzkCax37Sf2X"
      },
      "source": [
        "expected = Y_test.tolist()"
      ],
      "execution_count": null,
      "outputs": []
    },
    {
      "cell_type": "markdown",
      "metadata": {
        "id": "W02sCB425wEA"
      },
      "source": [
        "## Accuracy"
      ]
    },
    {
      "cell_type": "code",
      "metadata": {
        "colab": {
          "base_uri": "https://localhost:8080/"
        },
        "id": "JM6V8QwzSrks",
        "outputId": "e207ea82-9a22-4976-9ab2-7173a3cbe680"
      },
      "source": [
        "accuracy_score(Y_test, prediction)"
      ],
      "execution_count": null,
      "outputs": [
        {
          "output_type": "execute_result",
          "data": {
            "text/plain": [
              "0.96440489432703"
            ]
          },
          "metadata": {
            "tags": []
          },
          "execution_count": 33
        }
      ]
    },
    {
      "cell_type": "markdown",
      "metadata": {
        "id": "sZFAqtNZSwb-"
      },
      "source": [
        "\r\n",
        "\r\n",
        "---\r\n",
        "\r\n",
        "---\r\n",
        "\r\n",
        "\r\n",
        "\r\n",
        "\r\n",
        "\r\n",
        "---\r\n",
        "\r\n"
      ]
    }
  ]
}